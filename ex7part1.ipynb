{
 "cells": [
  {
   "cell_type": "code",
   "execution_count": 1,
   "metadata": {},
   "outputs": [
    {
     "name": "stdout",
     "output_type": "stream",
     "text": [
      "MC\n",
      "US\n",
      "MC\n",
      "US\n",
      "The restaurant is opened.\n"
     ]
    }
   ],
   "source": [
    "# 1\n",
    "class Restaurant:\n",
    "    def __init__(self,restaurant_name,cuisine_type):\n",
    "        self.restaurant_name=restaurant_name\n",
    "        self.cuisine_type=cuisine_type\n",
    "    \n",
    "    def describe_restaurant(self):\n",
    "        print(self.restaurant_name)\n",
    "        print(self.cuisine_type)\n",
    "        \n",
    "    def open_restaurant(self):\n",
    "        print(\"The restaurant is opened.\")\n",
    "        \n",
    "restaurant = Restaurant('MC','US')\n",
    "print(restaurant.restaurant_name)\n",
    "print(restaurant.cuisine_type)\n",
    "restaurant.describe_restaurant()\n",
    "restaurant.open_restaurant()"
   ]
  },
  {
   "cell_type": "code",
   "execution_count": 2,
   "metadata": {},
   "outputs": [
    {
     "name": "stdout",
     "output_type": "stream",
     "text": [
      "A\n",
      "fish\n",
      "B\n",
      "egg\n",
      "C\n",
      "milk\n"
     ]
    }
   ],
   "source": [
    "# 2\n",
    "class Restaurant:\n",
    "    def __init__(self,restaurant_name,cuisine_type):\n",
    "        self.restaurant_name=restaurant_name\n",
    "        self.cuisine_type=cuisine_type\n",
    "    \n",
    "    def describe_restaurant(self):\n",
    "        print(self.restaurant_name)\n",
    "        print(self.cuisine_type)\n",
    "        \n",
    "    def open_restaurant(self):\n",
    "        print(\"The restaurant is opened.\")\n",
    "        \n",
    "re1 = Restaurant('A','fish')\n",
    "re2 = Restaurant('B','egg')\n",
    "re3 = Restaurant('C','milk')\n",
    "re1.describe_restaurant()\n",
    "re2.describe_restaurant()\n",
    "re3.describe_restaurant()\n"
   ]
  },
  {
   "cell_type": "code",
   "execution_count": 3,
   "metadata": {},
   "outputs": [
    {
     "name": "stdout",
     "output_type": "stream",
     "text": [
      "A B 20 China\n",
      "Hello A\n",
      "C D 21 Japan\n",
      "Hello C\n"
     ]
    }
   ],
   "source": [
    "# 3\n",
    "class User:\n",
    "    def __init__(self,first_name,last_name,age,country):\n",
    "        self.first_name=first_name\n",
    "        self.last_name=last_name\n",
    "        self.age=age\n",
    "        self.country=country\n",
    "        \n",
    "    def describe_user(self):\n",
    "        print(self.first_name,self.last_name,self.age,self.country)\n",
    "    def greet_user(self):\n",
    "        print(\"Hello \"+self.first_name)\n",
    "        \n",
    "user1=User('A','B',20,'China')\n",
    "user1.describe_user()   \n",
    "user1.greet_user()\n",
    "user2=User('C','D',21,'Japan')\n",
    "user2.describe_user()\n",
    "user2.greet_user()       "
   ]
  },
  {
   "cell_type": "code",
   "execution_count": null,
   "metadata": {},
   "outputs": [],
   "source": [
    "# 4\n"
   ]
  },
  {
   "cell_type": "code",
   "execution_count": null,
   "metadata": {},
   "outputs": [],
   "source": [
    "# 5\n"
   ]
  },
  {
   "cell_type": "code",
   "execution_count": null,
   "metadata": {},
   "outputs": [],
   "source": [
    "# 6\n"
   ]
  },
  {
   "cell_type": "code",
   "execution_count": null,
   "metadata": {},
   "outputs": [],
   "source": [
    "# 7\n"
   ]
  },
  {
   "cell_type": "code",
   "execution_count": null,
   "metadata": {},
   "outputs": [],
   "source": [
    "# 8\n"
   ]
  },
  {
   "cell_type": "code",
   "execution_count": null,
   "metadata": {},
   "outputs": [],
   "source": [
    "# 9\n"
   ]
  },
  {
   "cell_type": "code",
   "execution_count": null,
   "metadata": {},
   "outputs": [],
   "source": [
    "# 10\n"
   ]
  },
  {
   "cell_type": "code",
   "execution_count": null,
   "metadata": {},
   "outputs": [],
   "source": [
    "# 11\n"
   ]
  },
  {
   "cell_type": "code",
   "execution_count": null,
   "metadata": {},
   "outputs": [],
   "source": [
    "# 12\n"
   ]
  },
  {
   "cell_type": "code",
   "execution_count": null,
   "metadata": {},
   "outputs": [],
   "source": [
    "# 13\n"
   ]
  },
  {
   "cell_type": "code",
   "execution_count": null,
   "metadata": {},
   "outputs": [],
   "source": [
    "# 14\n"
   ]
  },
  {
   "cell_type": "code",
   "execution_count": null,
   "metadata": {},
   "outputs": [],
   "source": [
    "# 15\n"
   ]
  },
  {
   "cell_type": "code",
   "execution_count": null,
   "metadata": {},
   "outputs": [],
   "source": [
    "# 16\n"
   ]
  }
 ],
 "metadata": {
  "kernelspec": {
   "display_name": "Python 3",
   "language": "python",
   "name": "python3"
  },
  "language_info": {
   "codemirror_mode": {
    "name": "ipython",
    "version": 3
   },
   "file_extension": ".py",
   "mimetype": "text/x-python",
   "name": "python",
   "nbconvert_exporter": "python",
   "pygments_lexer": "ipython3",
   "version": "3.11.5"
  }
 },
 "nbformat": 4,
 "nbformat_minor": 2
}
