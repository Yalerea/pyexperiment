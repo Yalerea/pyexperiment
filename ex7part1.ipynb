{
 "cells": [
  {
   "cell_type": "code",
   "execution_count": 1,
   "metadata": {},
   "outputs": [
    {
     "name": "stdout",
     "output_type": "stream",
     "text": [
      "MC\n",
      "US\n",
      "MC\n",
      "US\n",
      "The restaurant is opened.\n"
     ]
    }
   ],
   "source": [
    "# 1\n",
    "class Restaurant:\n",
    "    def __init__(self,restaurant_name,cuisine_type):\n",
    "        self.restaurant_name=restaurant_name\n",
    "        self.cuisine_type=cuisine_type\n",
    "    \n",
    "    def describe_restaurant(self):\n",
    "        print(self.restaurant_name)\n",
    "        print(self.cuisine_type)\n",
    "        \n",
    "    def open_restaurant(self):\n",
    "        print(\"The restaurant is opened.\")\n",
    "        \n",
    "restaurant = Restaurant('MC','US')\n",
    "print(restaurant.restaurant_name)\n",
    "print(restaurant.cuisine_type)\n",
    "restaurant.describe_restaurant()\n",
    "restaurant.open_restaurant()"
   ]
  },
  {
   "cell_type": "code",
   "execution_count": 2,
   "metadata": {},
   "outputs": [
    {
     "name": "stdout",
     "output_type": "stream",
     "text": [
      "A\n",
      "fish\n",
      "B\n",
      "egg\n",
      "C\n",
      "milk\n"
     ]
    }
   ],
   "source": [
    "# 2\n",
    "class Restaurant:\n",
    "    def __init__(self,restaurant_name,cuisine_type):\n",
    "        self.restaurant_name=restaurant_name\n",
    "        self.cuisine_type=cuisine_type\n",
    "    \n",
    "    def describe_restaurant(self):\n",
    "        print(self.restaurant_name)\n",
    "        print(self.cuisine_type)\n",
    "        \n",
    "    def open_restaurant(self):\n",
    "        print(\"The restaurant is opened.\")\n",
    "        \n",
    "re1 = Restaurant('A','fish')\n",
    "re2 = Restaurant('B','egg')\n",
    "re3 = Restaurant('C','milk')\n",
    "re1.describe_restaurant()\n",
    "re2.describe_restaurant()\n",
    "re3.describe_restaurant()\n"
   ]
  },
  {
   "cell_type": "code",
   "execution_count": 3,
   "metadata": {},
   "outputs": [
    {
     "name": "stdout",
     "output_type": "stream",
     "text": [
      "A B 20 China\n",
      "Hello A\n",
      "C D 21 Japan\n",
      "Hello C\n"
     ]
    }
   ],
   "source": [
    "# 3\n",
    "class User:\n",
    "    def __init__(self,first_name,last_name,age,country):\n",
    "        self.first_name=first_name\n",
    "        self.last_name=last_name\n",
    "        self.age=age\n",
    "        self.country=country\n",
    "        \n",
    "    def describe_user(self):\n",
    "        print(self.first_name,self.last_name,self.age,self.country)\n",
    "    def greet_user(self):\n",
    "        print(\"Hello \"+self.first_name)\n",
    "        \n",
    "user1=User('A','B',20,'China')\n",
    "user1.describe_user()   \n",
    "user1.greet_user()\n",
    "user2=User('C','D',21,'Japan')\n",
    "user2.describe_user()\n",
    "user2.greet_user()       "
   ]
  },
  {
   "cell_type": "code",
   "execution_count": 10,
   "metadata": {},
   "outputs": [
    {
     "name": "stdout",
     "output_type": "stream",
     "text": [
      "The number is 0\n",
      "The new number is 10\n",
      "The new total number is 16\n"
     ]
    }
   ],
   "source": [
    "# 4\n",
    "class Restaurant:\n",
    "    def __init__(self,restaurant_name,cuisine_type):\n",
    "        self.restaurant_name=restaurant_name\n",
    "        self.cuisine_type=cuisine_type\n",
    "        self.number_served=0\n",
    "    \n",
    "    def describe_restaurant(self):\n",
    "        print(self.restaurant_name)\n",
    "        print(self.cuisine_type)\n",
    "        \n",
    "    def open_restaurant(self):\n",
    "        print(\"The restaurant is opened.\")\n",
    "        \n",
    "    def set_number_served(self,number):\n",
    "        self.number_served=number\n",
    "        \n",
    "    def increment_login_attempts(self,inc_number):\n",
    "        self.number_served+=inc_number\n",
    "        \n",
    "restaurant = Restaurant('MC','US')\n",
    "print(f\"The number is {restaurant.number_served}\")\n",
    "restaurant.set_number_served(10)\n",
    "print(f\"The new number is {restaurant.number_served}\")\n",
    "restaurant.increment_login_attempts(6)\n",
    "print(f\"The new total number is {restaurant.number_served}\")"
   ]
  },
  {
   "cell_type": "code",
   "execution_count": 13,
   "metadata": {},
   "outputs": [
    {
     "name": "stdout",
     "output_type": "stream",
     "text": [
      "2\n",
      "0\n"
     ]
    }
   ],
   "source": [
    "# 5\n",
    "class User:\n",
    "    def __init__(self,first_name,last_name,age,country):\n",
    "        self.first_name=first_name\n",
    "        self.last_name=last_name\n",
    "        self.age=age\n",
    "        self.country=country\n",
    "        self.login_attempts=0\n",
    "        \n",
    "    def describe_user(self):\n",
    "        print(self.first_name,self.last_name,self.age,self.country)\n",
    "    def greet_user(self):\n",
    "        print(\"Hello \"+self.first_name)\n",
    "    def increment_login_attempts(self):\n",
    "        self.login_attempts+=1\n",
    "    def reset_login_attempts(self):\n",
    "        self.login_attempts=0\n",
    "        \n",
    "user1=User('A','B',20,'China')\n",
    "user1.increment_login_attempts()\n",
    "user1.increment_login_attempts()\n",
    "print(user1.login_attempts)\n",
    "user1.reset_login_attempts()\n",
    "print(user1.login_attempts)"
   ]
  },
  {
   "cell_type": "code",
   "execution_count": 14,
   "metadata": {},
   "outputs": [
    {
     "name": "stdout",
     "output_type": "stream",
     "text": [
      "The types include ['mango', 'strawberry', 'banana']\n"
     ]
    }
   ],
   "source": [
    "# 6\n",
    "class Restaurant:\n",
    "    def __init__(self,restaurant_name,cuisine_type):\n",
    "        self.restaurant_name=restaurant_name\n",
    "        self.cuisine_type=cuisine_type\n",
    "        self.number_served=0\n",
    "    \n",
    "    def describe_restaurant(self):\n",
    "        print(self.restaurant_name)\n",
    "        print(self.cuisine_type)\n",
    "        \n",
    "    def open_restaurant(self):\n",
    "        print(\"The restaurant is opened.\")\n",
    "        \n",
    "    def set_number_served(self,number):\n",
    "        self.number_served=number\n",
    "        \n",
    "    def increment_login_attempts(self,inc_number):\n",
    "        self.number_served+=inc_number\n",
    "        \n",
    "class IceCreamStand(Restaurant):\n",
    "    def __init__(self,restaurant_name,cuisine_type):\n",
    "        super().__init__(restaurant_name,cuisine_type)\n",
    "        self.flavors=['mango','strawberry','banana']\n",
    "    def show_icecream(self):\n",
    "        print(f\"The types include {self.flavors}\")\n",
    "icecream=IceCreamStand('Ice_Cream','icecream')\n",
    "icecream.show_icecream()"
   ]
  },
  {
   "cell_type": "code",
   "execution_count": 18,
   "metadata": {},
   "outputs": [
    {
     "name": "stdout",
     "output_type": "stream",
     "text": [
      "['can add post', 'can delete post', 'can ban user']\n"
     ]
    }
   ],
   "source": [
    "# 7\n",
    "class User:\n",
    "    def __init__(self,first_name,last_name,age,country):\n",
    "        self.first_name=first_name\n",
    "        self.last_name=last_name\n",
    "        self.age=age\n",
    "        self.country=country\n",
    "        self.login_attempts=0\n",
    "        \n",
    "    def describe_user(self):\n",
    "        print(self.first_name,self.last_name,self.age,self.country)\n",
    "    def greet_user(self):\n",
    "        print(\"Hello \"+self.first_name)\n",
    "    def increment_login_attempts(self):\n",
    "        self.login_attempts+=1\n",
    "    def reset_login_attempts(self):\n",
    "        self.login_attempts=0\n",
    "        \n",
    "class Admin(User):\n",
    "    def __init__(self,first_name,last_name,age,country):\n",
    "        super().__init__(first_name,last_name,age,country) # self去掉\n",
    "        self.privileges=['can add post',\"can delete post\",\"can ban user\"]\n",
    "    def show_privileges(self):\n",
    "        print(self.privileges)\n",
    "        \n",
    "admin1=Admin('A','B',22,'UK')\n",
    "admin1.show_privileges()\n",
    "    "
   ]
  },
  {
   "cell_type": "code",
   "execution_count": null,
   "metadata": {},
   "outputs": [
    {
     "name": "stdout",
     "output_type": "stream",
     "text": [
      "['can add post', 'can delete post', 'can ban user']\n"
     ]
    }
   ],
   "source": [
    "# 8\n",
    "class Privileges:\n",
    "    def __init__(self):\n",
    "        self.privileges=['can add post',\"can delete post\",\"can ban user\"]\n",
    "    def show_privileges(self):\n",
    "        print(self.privileges)\n",
    "        \n",
    "class User:\n",
    "    def __init__(self,first_name,last_name,age,country):\n",
    "        self.first_name=first_name\n",
    "        self.last_name=last_name\n",
    "        self.age=age\n",
    "        self.country=country\n",
    "        self.login_attempts=0\n",
    "        \n",
    "    def describe_user(self):\n",
    "        print(self.first_name,self.last_name,self.age,self.country)\n",
    "    def greet_user(self):\n",
    "        print(\"Hello \"+self.first_name)\n",
    "    def increment_login_attempts(self):\n",
    "        self.login_attempts+=1\n",
    "    def reset_login_attempts(self):\n",
    "        self.login_attempts=0\n",
    "        \n",
    "class Admin(User):\n",
    "    def __init__(self,first_name,last_name,age,country):\n",
    "        super().__init__(first_name,last_name,age,country) # self去掉\n",
    "        self.privileges=['can add post',\"can delete post\",\"can ban user\"]\n",
    "        self.pri=Privileges()\n",
    "    \n",
    "admin=Admin('A','B',22,'UK')\n",
    "admin.pri.show_privileges()"
   ]
  },
  {
   "cell_type": "code",
   "execution_count": null,
   "metadata": {},
   "outputs": [],
   "source": [
    "# 9\n",
    "class Car:\n",
    "    \"\"\"A simple attempt to represent a car.\"\"\"\n",
    "\n",
    "    def __init__(self, make, model, year):\n",
    "        self.make = make\n",
    "        self.model = model\n",
    "        self.year = year\n",
    "        self.odometer_reading = 0\n",
    "        \n",
    "    def get_descriptive_name(self):\n",
    "        long_name = f\"{self.year} {self.make} {self.model}\"\n",
    "        return long_name.title()\n",
    "    \n",
    "    def read_odometer(self):\n",
    "        print(f\"This car has {self.odometer_reading} miles on it.\")\n",
    "        \n",
    "    def update_odometer(self, mileage):\n",
    "        if mileage >= self.odometer_reading:\n",
    "            self.odometer_reading = mileage\n",
    "        else:\n",
    "            print(\"You can't roll back an odometer!\")\n",
    "    \n",
    "    def increment_odometer(self, miles):\n",
    "        self.odometer_reading += miles\n",
    "\n",
    "class Battery:\n",
    "    \"\"\"A simple attempt to model a battery for an electric car.\"\"\"\n",
    "    \n",
    "    def __init__(self, battery_size=40):\n",
    "        \"\"\"Initialize the battery's attributes.\"\"\"\n",
    "        self.battery_size = battery_size\n",
    "\n",
    "    def describe_battery(self):\n",
    "        \"\"\"Print a statement describing the battery size.\"\"\"\n",
    "        print(f\"This car has a {self.battery_size}-kWh battery.\")\n",
    "\n",
    "    def get_range(self):\n",
    "        \"\"\"Print a statement about the range this battery provides.\"\"\"\n",
    "        if self.battery_size == 40:\n",
    "            range = 150\n",
    "        elif self.battery_size == 65:\n",
    "            range = 225\n",
    "        print(f\"This car can go about {range} miles on a full charge.\")\n",
    "        \n",
    "    def upgrade_battery(self):\n",
    "        if self.battery_size <65:\n",
    "            self.battery_size = 65\n",
    "\n",
    "\n",
    "class ElectricCar(Car):\n",
    "    \"\"\"Represent aspects of a car, specific to electric vehicles.\"\"\"\n",
    "    \n",
    "    def __init__(self, make, model, year):\n",
    "        \"\"\"\n",
    "        Initialize attributes of the parent class.\n",
    "        Then initialize attributes specific to an electric car.\n",
    "        \"\"\"\n",
    "        super().__init__(make, model, year)\n",
    "        self.battery = Battery()\n",
    "    \n",
    "elecar = ElectricCar('nissan','leaf',2024)\n",
    "elecar.battery.get_range()\n",
    "elecar.battery.upgrade_battery()\n",
    "elecar.battery.get_range()"
   ]
  },
  {
   "cell_type": "code",
   "execution_count": null,
   "metadata": {},
   "outputs": [],
   "source": [
    "# 10\n",
    "from Restaurant import Restaurant\n",
    "restaurant = Restaurant('Pizza Hut', 'Italian')\n",
    "restaurant.describe_restaurant()\n"
   ]
  },
  {
   "cell_type": "code",
   "execution_count": null,
   "metadata": {},
   "outputs": [],
   "source": [
    "# 11\n",
    "from Admin import Admin\n",
    "admin = Admin('Joe', 'Smith', 11,'USA')\n",
    "admin.pri.show_privileges()"
   ]
  },
  {
   "cell_type": "code",
   "execution_count": null,
   "metadata": {},
   "outputs": [],
   "source": [
    "# 12\n",
    "from Admin import Admin\n",
    "admin = Admin('Joe', 'Smith', 12,'USA')\n",
    "admin.pri.show_privileges()"
   ]
  },
  {
   "cell_type": "code",
   "execution_count": null,
   "metadata": {},
   "outputs": [],
   "source": [
    "# 13\n",
    "from random import randiot\n",
    "class Die:\n",
    "    def __init__(self, sides=6):\n",
    "        self.sides=sides\n",
    "    def roll_die(self):\n",
    "        print(randint(1, self.sides))\n",
    "\n",
    "die1=Die(6)\n",
    "for i in range(10):\n",
    "    die1.roll_die()\n",
    "die2=Die(10)\n",
    "for i in range(10):\n",
    "    die2.roll_die()\n",
    "die3=Die(20)\n",
    "for i in range(10):\n",
    "    die3.roll_die()"
   ]
  },
  {
   "cell_type": "code",
   "execution_count": null,
   "metadata": {},
   "outputs": [],
   "source": [
    "# 14\n",
    "from random import choice\n",
    "list=['w',3,'c',73,'v','s',5,7,99,1,'h',4,11,52,8]\n",
    "four=[]\n",
    "for i in range(4):\n",
    "    four.append(choice(list))\n",
    "print(f\"{''.concat(four)} is award number!\")"
   ]
  },
  {
   "cell_type": "code",
   "execution_count": null,
   "metadata": {},
   "outputs": [],
   "source": [
    "# 15\n",
    "from random import choice\n",
    "list=['w',3,'c',73,'v','s',5,7,99,1,'h',4,11,52,8]\n",
    "four=[]\n",
    "for i in range(4):\n",
    "    four.append(choice(list))\n",
    "print(f\"{''.concat(four)} is award number!\")\n",
    "my_ticket=[]\n",
    "i=0\n",
    "while True:\n",
    "    for i in range(4):\n",
    "        my_ticket.append(choice(list))\n",
    "    if ''.concat(my_ticket)!=''.concat(four):\n",
    "        i+=1\n",
    "    else:\n",
    "        break\n",
    "print(i)\n"
   ]
  }
 ],
 "metadata": {
  "kernelspec": {
   "display_name": "Python 3",
   "language": "python",
   "name": "python3"
  },
  "language_info": {
   "codemirror_mode": {
    "name": "ipython",
    "version": 3
   },
   "file_extension": ".py",
   "mimetype": "text/x-python",
   "name": "python",
   "nbconvert_exporter": "python",
   "pygments_lexer": "ipython3",
   "version": "3.11.5"
  }
 },
 "nbformat": 4,
 "nbformat_minor": 2
}
